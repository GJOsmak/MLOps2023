{
 "cells": [
  {
   "cell_type": "code",
   "execution_count": 1,
   "id": "1a75bb94",
   "metadata": {},
   "outputs": [],
   "source": [
    "from collections import Counter\n",
    "import numpy as np\n",
    "import pandas as pd\n",
    "from sklearn.metrics import accuracy_score\n",
    "import joblib"
   ]
  },
  {
   "cell_type": "code",
   "execution_count": 10,
   "id": "6cd63c56",
   "metadata": {},
   "outputs": [
    {
     "data": {
      "text/plain": [
       "'1.21.6'"
      ]
     },
     "execution_count": 10,
     "metadata": {},
     "output_type": "execute_result"
    }
   ],
   "source": [
    "import sklearn\n",
    "np.__version__"
   ]
  },
  {
   "cell_type": "code",
   "execution_count": 42,
   "id": "3ec9020a",
   "metadata": {},
   "outputs": [],
   "source": [
    "X = np.array(pd.read_csv('./data/mnist_train.csv').iloc[:,1:])\n",
    "y = np.array(pd.read_csv('./data/mnist_target_train.csv').iloc[:,1])"
   ]
  },
  {
   "cell_type": "code",
   "execution_count": 2,
   "id": "59b39862",
   "metadata": {},
   "outputs": [],
   "source": [
    "X_test = np.array(pd.read_csv('./data/mnist_test.csv').iloc[:,1:])\n",
    "y_test = np.array(pd.read_csv('./data/mnist_target_test.csv').iloc[:,1])"
   ]
  },
  {
   "cell_type": "code",
   "execution_count": 4,
   "id": "151e5c26",
   "metadata": {},
   "outputs": [],
   "source": [
    "class OptimizedKNNClassifier(object):\n",
    "    def __init__(self, k_neighbours: int, weight_samples: bool = True, weight_param = 0.8):\n",
    "\n",
    "        self._k_neighbours = k_neighbours\n",
    "        self._weight_samples = weight_samples\n",
    "        self._weight_param = weight_param\n",
    "\n",
    "        self._X, self._y = None, None\n",
    "\n",
    "    def fit(self, X: np.array, y: np.array) -> None:\n",
    "        '''\n",
    "        When fit() method called -- model just saves the Xs and ys\n",
    "        '''\n",
    "        self._X = X\n",
    "        self._y = y\n",
    "\n",
    "    def predict(self, X: np.array) -> np.array:\n",
    "        '''Non-optimized version (python loop-based)'''\n",
    "\n",
    "        # Assertion check -- if model is fitted or not\n",
    "        assert (self._X is not None and self._y is not None), f\"Model is not fitted yet!\"\n",
    "\n",
    "        ys_pred: np.array = np.zeros(shape=(X.shape[0], 1)) # Predictions matrix allocation\n",
    "\n",
    "        '''\n",
    "        For each sample in X calculate distances to the points in self._X, using the self._metric()\n",
    "        calculate distances and get K nearest points.\n",
    "        '''\n",
    "        for sample_id, X_this in enumerate(X):\n",
    "            distances = dict(enumerate(np.sqrt(np.sum((self._X - X_this)**2, axis=1))))\n",
    "            sorted_distances = self._sort_dict(distances)\n",
    "            y_pred: int = self._get_nearest_class(sorted_distances)\n",
    "            ys_pred[sample_id] = y_pred\n",
    "\n",
    "        return ys_pred\n",
    "\n",
    "    @staticmethod\n",
    "    def _sort_dict(unsort_dict, ascending=False):\n",
    "        return dict(sorted(unsort_dict.items(), key=lambda item: item[1]))\n",
    "\n",
    "    def _get_nearest_class(self, sorted_distances: list) -> int:\n",
    "        sorted_distances_top_k = list(sorted_distances.keys())[:self._k_neighbours]\n",
    "        labels_top_k = [dict(enumerate(self._y))[sample] for sample in sorted_distances_top_k]\n",
    "        predicted_label: int = self._decision_rule(labels_top_k)\n",
    "        return predicted_label\n",
    "\n",
    "    def _decision_rule(self, labels_top_k) -> int:\n",
    "        if self._weight_samples:\n",
    "\n",
    "          # Создаем словарь для подсчета весов по классам\n",
    "          class_weights = {}\n",
    "          weights = np.power(self._weight_param, np.arange(len(labels_top_k))) #пусть вес убывает экспоненциально\n",
    "          # Суммируем веса для каждого класса\n",
    "          for label, weight in zip(labels_top_k, weights):\n",
    "              class_weights[label] = class_weights.get(label, 0) + weight\n",
    "\n",
    "          # Находим класс с наибольшей суммой весов\n",
    "          max_weight_class = max(class_weights, key=class_weights.get)\n",
    "          return max_weight_class\n",
    "\n",
    "        else:\n",
    "          return Counter(labels_top_k).most_common()[0][0]"
   ]
  },
  {
   "cell_type": "code",
   "execution_count": 47,
   "id": "a9d0aa3f",
   "metadata": {},
   "outputs": [
    {
     "name": "stdout",
     "output_type": "stream",
     "text": [
      "OptimizedKNNClassifier Accuracy = 0.9888888888888889\n"
     ]
    }
   ],
   "source": [
    "sk_knn_clf = OptimizedKNNClassifier(10, weight_samples=False)\n",
    "sk_knn_clf.fit(X, y)\n",
    "\n",
    "y_pred = sk_knn_clf.predict(X_test)\n",
    "print('OptimizedKNNClassifier Accuracy =', accuracy_score(y_test, y_pred))"
   ]
  },
  {
   "cell_type": "code",
   "execution_count": 50,
   "id": "228e79ee",
   "metadata": {},
   "outputs": [],
   "source": [
    "file_path = \"knn_model.joblib\""
   ]
  },
  {
   "cell_type": "code",
   "execution_count": 51,
   "id": "6a0d1d77",
   "metadata": {},
   "outputs": [
    {
     "data": {
      "text/plain": [
       "['knn_model.joblib']"
      ]
     },
     "execution_count": 51,
     "metadata": {},
     "output_type": "execute_result"
    }
   ],
   "source": [
    "joblib.dump(sk_knn_clf, file_path)"
   ]
  },
  {
   "cell_type": "code",
   "execution_count": 5,
   "id": "16caa9be",
   "metadata": {},
   "outputs": [],
   "source": [
    "knn_model = joblib.load(\"knn_model.joblib\")"
   ]
  },
  {
   "cell_type": "code",
   "execution_count": 6,
   "id": "5acb49dd",
   "metadata": {},
   "outputs": [
    {
     "name": "stdout",
     "output_type": "stream",
     "text": [
      "OptimizedKNNClassifier Accuracy = 0.9888888888888889\n"
     ]
    }
   ],
   "source": [
    "y_pred = knn_model.predict(X_test)\n",
    "print('OptimizedKNNClassifier Accuracy =', accuracy_score(y_test, y_pred))"
   ]
  },
  {
   "cell_type": "code",
   "execution_count": null,
   "id": "01e3e370",
   "metadata": {},
   "outputs": [],
   "source": []
  }
 ],
 "metadata": {
  "kernelspec": {
   "display_name": "Python 3 (ipykernel)",
   "language": "python",
   "name": "python3"
  },
  "language_info": {
   "codemirror_mode": {
    "name": "ipython",
    "version": 3
   },
   "file_extension": ".py",
   "mimetype": "text/x-python",
   "name": "python",
   "nbconvert_exporter": "python",
   "pygments_lexer": "ipython3",
   "version": "3.7.6"
  }
 },
 "nbformat": 4,
 "nbformat_minor": 5
}
